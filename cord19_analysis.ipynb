# CORD-19 Data Exploration Assignment
# This notebook covers data loading, cleaning, analysis, and visualization of the CORD-19 metadata.csv dataset

import pandas as pd
import matplotlib.pyplot as plt
from wordcloud import WordCloud

# ========================
# Part 1: Data Loading
# ========================
df = pd.read_csv('metadata.csv')
print(df.head())
print("Shape:", df.shape)
print(df.dtypes)
print(df[['title', 'abstract', 'publish_time', 'journal']].isnull().sum())
print(df.describe())

# ========================
# Part 2: Data Cleaning
# ========================
df_clean = df.dropna(subset=['title', 'publish_time']).copy()
df_clean['publish_time'] = pd.to_datetime(df_clean['publish_time'], errors='coerce')
df_clean['year'] = df_clean['publish_time'].dt.year
df_clean['abstract_word_count'] = df_clean['abstract'].fillna("").apply(lambda x: len(x.split()))
print(df_clean.head())

# ========================
# Part 3: Analysis & Visualization
# ========================

# Publications per year
year_counts = df_clean['year'].value_counts().sort_index()
plt.figure(figsize=(8,5))
plt.bar(year_counts.index, year_counts.values)
plt.title('Publications by Year')
plt.xlabel("Year")
plt.ylabel("Number of Publications")
plt.show()

# Top journals
top_journals = df_clean['journal'].value_counts().head(10)
plt.figure(figsize=(10,5))
top_journals.plot(kind='bar')
plt.title('Top Journals Publishing COVID-19 Research')
plt.ylabel("Number of Papers")
plt.show()

# Word Cloud of titles
all_titles = " ".join(df_clean['title'].dropna().astype(str).tolist())
wordcloud = WordCloud(width=800, height=400, background_color="white").generate(all_titles)

plt.figure(figsize=(10,6))
plt.imshow(wordcloud, interpolation="bilinear")
plt.axis("off")
plt.title("Word Cloud of Paper Titles")
plt.show()
